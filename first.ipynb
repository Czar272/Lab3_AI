{
 "cells": [
  {
   "cell_type": "markdown",
   "metadata": {},
   "source": [
    "# Task 1 - Preguntas teoricas"
   ]
  },
  {
   "cell_type": "markdown",
   "metadata": {},
   "source": [
    "### Pregunta 1\n",
    "- Explique la diferencia entre descenso de gradiente, descenso de gradiente por mini batches y descenso de\n",
    "gradiente estocástico. Asegúrese de mencionar las ventajas y desventajas de cada enfoque."
   ]
  },
  {
   "cell_type": "markdown",
   "metadata": {},
   "source": [
    "El descenso de gradiente es un método para ajustar los parámetros de un modelo minimizando el error. Hay tres formas principales de usarlo:\n",
    "1.  **descenso de gradiente batch**, que usa todos los datos de entrenamiento para calcular cada actualización (es preciso pero lento y costoso en grandes datasets). \n",
    "\n",
    "2.  **descenso de gradiente estocástico (SGD)**, que actualiza los parámetros después de cada dato individual (es rápido y tiene más variabilidad, lo que ayuda a escapar de mínimos locales, pero puede ser inestable). \n",
    "\n",
    "3. **descenso de gradiente por mini-batches**, que hace un balance entre los dos anteriores al actualizar con pequeños grupos de datos (es más eficiente que el batch y más estable que el estocástico, por eso es el más usado en la práctica).\n"
   ]
  },
  {
   "cell_type": "markdown",
   "metadata": {},
   "source": [
    "### Pregunta 2\n",
    "- Compare y contraste técnicas de extracción de features (feature extraction) y selección de features (feature\n",
    "selection) en machine learning. De ejemplos de escenarios donde cada técnica sería más apropiada."
   ]
  },
  {
   "cell_type": "markdown",
   "metadata": {},
   "source": [
    "La **extracción de features** y la **selección de features** son dos maneras de reducir la cantidad de información en un modelo, pero funcionan diferente. La extracción de features transforma los datos originales en nuevas representaciones más compactas y útiles (por ejemplo, con PCA, embeddings en NLP o convoluciones en imágenes). En cambio, la selección de features elige las características más relevantes del conjunto original, descartando las irrelevantes o redundantes (como usar métodos estadísticos o árboles de decisión).  \n",
    "\n",
    "Por ejemplo, si trabajas con imágenes en visión por computadora, la extracción de features con CNNs es clave para detectar patrones sin procesar cada píxel. En cambio, si tienes un dataset tabular con muchas columnas y algunas no aportan información, la selección de features con métodos como *LASSO* o *feature importance* de un árbol de decisión ayuda a mejorar el rendimiento sin perder interpretabilidad."
   ]
  },
  {
   "cell_type": "markdown",
   "metadata": {},
   "source": [
    "### Pregunta 3\n",
    "- Describa la arquitectura y el funcionamiento de un perceptrón de una sola capa (un tipo de red neuronal sin\n",
    "backpropagation). Explique cómo aprende y la forma en la que actualiza sus parámetros"
   ]
  },
  {
   "cell_type": "markdown",
   "metadata": {},
   "source": [
    "Un **perceptrón de una sola capa** es una red neuronal muy simple que se usa para clasificar datos linealmente separables. Su arquitectura consiste en una capa de entrada, donde cada neurona recibe una o más características del dato de entrada, y una sola neurona de salida que produce la predicción. Cada entrada está conectada a la salida con un peso, y la salida se calcula con una combinación lineal de las entradas y una función de activación (usualmente una función escalón).  \n",
    "\n",
    "El perceptrón aprende ajustando sus pesos mediante la **regla de aprendizaje del perceptrón**, que funciona de manera sencilla: cuando hace una predicción incorrecta, ajusta los pesos en la dirección correcta sumando o restando un pequeño valor proporcional al error y a la entrada correspondiente. No usa *backpropagation* ni puede resolver problemas no lineales, como el XOR, pero es útil para entender los fundamentos de las redes neuronales."
   ]
  },
  {
   "cell_type": "markdown",
   "metadata": {},
   "source": [
    "# Task 2 - Ejercicios Practicos"
   ]
  },
  {
   "cell_type": "markdown",
   "metadata": {},
   "source": [
    "### Task 2.1 - Gradiente Descendiente Estocástico"
   ]
  },
  {
   "cell_type": "code",
   "execution_count": 1,
   "metadata": {},
   "outputs": [],
   "source": [
    "import numpy as np\n",
    "import matplotlib.pyplot as plt\n",
    "import time\n",
    "import pandas as pd\n",
    "from IPython.display import display"
   ]
  },
  {
   "cell_type": "code",
   "execution_count": 2,
   "metadata": {},
   "outputs": [],
   "source": [
    "\n",
    "# f(x) = 2x^3 - 3x^2 + 5x + 3\n",
    "polinomio = np.array([2, -3, 5, 3])\n",
    "\n",
    "np.random.seed(42)\n",
    "x_test = np.linspace(-2, 2, 100)\n",
    "y_test = np.polyval(polinomio, x_test) + np.random.normal(scale=3, size=len(x_test))  # Ruido\n",
    "\n",
    "derivada = np.polyder(polinomio)\n",
    "coeficientes = np.random.randn(4)\n",
    "\n",
    "pasos_size = 0.01\n",
    "epochs = 500\n",
    "batch_size = 10\n"
   ]
  },
  {
   "cell_type": "code",
   "execution_count": 3,
   "metadata": {},
   "outputs": [],
   "source": [
    "\n",
    "def predict(coeffs, x):\n",
    "    return np.polyval(coeffs, x)\n",
    "\n",
    "def prom_error(actual_y, y_predict):\n",
    "    return np.mean((actual_y - y_predict) ** 2)\n",
    "\n",
    "def batch(x, y, coeffs, lr, epochs):\n",
    "    coeffs = coeffs.copy()\n",
    "    n = len(x)\n",
    "    errors = []\n",
    "    start = time.time()\n",
    "\n",
    "    for _ in range(epochs):\n",
    "        y_pred = predict(coeffs, x)\n",
    "        error = prom_error(y, y_pred)\n",
    "        errors.append(error)\n",
    "\n",
    "        grad = np.polyval(derivada  , x)\n",
    "        coeffs -= lr * (2/n) * np.polyval(derivada, x).dot(y_pred - y)\n",
    "\n",
    "    elapsed_time = time.time() - start\n",
    "    return coeffs, errors, elapsed_time\n"
   ]
  },
  {
   "cell_type": "code",
   "execution_count": 4,
   "metadata": {},
   "outputs": [],
   "source": [
    "\n",
    "# Implementación del Descenso de Gradiente Estocástico\n",
    "def gradient_descent(x, y, coeffs, lr, epochs):\n",
    "    coeffs = coeffs.copy()\n",
    "    errors = []\n",
    "    start_time = time.time()\n",
    "\n",
    "    for _ in range(epochs):\n",
    "        idx = np.random.randint(len(x))  # Seleccionamos un punto al azar\n",
    "        xi, yi = x[idx], y[idx]\n",
    "\n",
    "        y_pred = predict(coeffs, xi)\n",
    "        error = prom_error(y, predict(coeffs, x))\n",
    "        errors.append(error)\n",
    "\n",
    "        grad = np.polyval(derivada, xi)\n",
    "        coeffs -= lr * 2 * grad * (y_pred - yi)\n",
    "\n",
    "    elapsed_time = time.time() - start_time\n",
    "    return coeffs, errors, elapsed_time\n",
    "\n",
    "# Implementación del Descenso de Gradiente por Mini Batches\n",
    "def minibatch(x, y, coeffs, lr, epochs, batch_size):\n",
    "    coeffs = coeffs.copy()\n",
    "    errors = []\n",
    "    start_time = time.time()\n",
    "    n = len(x)\n",
    "\n",
    "    for _ in range(epochs):\n",
    "        indices = np.random.choice(n, batch_size, replace=False)  # Seleccionamos un minibatch\n",
    "        x_batch, y_batch = x[indices], y[indices]\n",
    "\n",
    "        y_pred = predict(coeffs, x_batch)\n",
    "        error = prom_error(y, predict(coeffs, x))\n",
    "        errors.append(error)\n",
    "\n",
    "        grad = np.polyval(derivada, x_batch)\n",
    "        coeffs -= lr * (2 / batch_size) * np.polyval(derivada, x_batch).dot(y_pred - y_batch)\n",
    "\n",
    "    elapsed_time = time.time() - start_time\n",
    "    return coeffs, errors, elapsed_time\n"
   ]
  },
  {
   "cell_type": "code",
   "execution_count": 5,
   "metadata": {},
   "outputs": [
    {
     "data": {
      "image/png": "[encoded data removed]",
      "text/plain": [
       "<Figure size 1200x600 with 1 Axes>"
      ]
     },
     "metadata": {},
     "output_type": "display_data"
    },
    {
     "data": {
      "text/html": [
       "<div>\n",
       "<style scoped>\n",
       "    .dataframe tbody tr th:only-of-type {\n",
       "        vertical-align: middle;\n",
       "    }\n",
       "\n",
       "    .dataframe tbody tr th {\n",
       "        vertical-align: top;\n",
       "    }\n",
       "\n",
       "    .dataframe thead th {\n",
       "        text-align: right;\n",
       "    }\n",
       "</style>\n",
       "<table border=\"1\" class=\"dataframe\">\n",
       "  <thead>\n",
       "    <tr style=\"text-align: right;\">\n",
       "      <th></th>\n",
       "      <th>Método</th>\n",
       "      <th>Tiempo (s)</th>\n",
       "      <th>Error MSE</th>\n",
       "    </tr>\n",
       "  </thead>\n",
       "  <tbody>\n",
       "    <tr>\n",
       "      <th>0</th>\n",
       "      <td>Batch GD</td>\n",
       "      <td>0.025540</td>\n",
       "      <td>5.009812e+03</td>\n",
       "    </tr>\n",
       "    <tr>\n",
       "      <th>1</th>\n",
       "      <td>SGD</td>\n",
       "      <td>0.020682</td>\n",
       "      <td>1.528912e+55</td>\n",
       "    </tr>\n",
       "    <tr>\n",
       "      <th>2</th>\n",
       "      <td>Mini-Batch GD</td>\n",
       "      <td>0.035996</td>\n",
       "      <td>1.168904e+02</td>\n",
       "    </tr>\n",
       "  </tbody>\n",
       "</table>\n",
       "</div>"
      ],
      "text/plain": [
       "          Método  Tiempo (s)     Error MSE\n",
       "0       Batch GD    0.025540  5.009812e+03\n",
       "1            SGD    0.020682  1.528912e+55\n",
       "2  Mini-Batch GD    0.035996  1.168904e+02"
      ]
     },
     "metadata": {},
     "output_type": "display_data"
    }
   ],
   "source": [
    "\n",
    "# Ejecutamos los tres métodos\n",
    "coeffs_batch, errors_batch, time_batch = batch(x_test, y_test, coeficientes, pasos_size, epochs)\n",
    "coeffs_sgd, errors_sgd, time_sgd = gradient_descent(x_test, y_test, coeficientes, pasos_size, epochs)\n",
    "coeffs_minibatch, errors_minibatch, time_minibatch = minibatch(x_test, y_test, coeficientes, pasos_size, epochs, batch_size)\n",
    "\n",
    "# Calculamos los errores finales de cada método\n",
    "final_mse_batch = prom_error(y_test, predict(coeffs_batch, x_test))\n",
    "final_mse_sgd = prom_error(y_test, predict(coeffs_sgd, x_test))\n",
    "final_mse_minibatch = prom_error(y_test, predict(coeffs_minibatch, x_test))\n",
    "\n",
    "# Graficamos los resultados\n",
    "plt.figure(figsize=(12, 6))\n",
    "plt.scatter(x_test, y_test, label=\"Datos Reales\", color=\"gray\", alpha=0.5)\n",
    "\n",
    "x_fit = np.linspace(-2, 2, 100)\n",
    "plt.plot(x_fit, predict(coeffs_batch, x_fit), label=\"Batch GD\", linestyle=\"dashed\")\n",
    "plt.plot(x_fit, predict(coeffs_sgd, x_fit), label=\"SGD\", linestyle=\"dotted\")\n",
    "plt.plot(x_fit, predict(coeffs_minibatch, x_fit), label=\"Mini-Batch GD\", linestyle=\"dashdot\")\n",
    "plt.plot(x_fit, predict(coeficientes, x_fit), label=\"Función Real\", linestyle=\"solid\", color=\"black\")\n",
    "\n",
    "plt.legend()\n",
    "plt.title(\"Aproximación con Diferentes Métodos de Descenso de Gradiente\")\n",
    "plt.xlabel(\"x\")\n",
    "plt.ylabel(\"f(x)\")\n",
    "plt.show()\n",
    "\n",
    "# Mostramos los tiempos y errores finales\n",
    "results_df = pd.DataFrame({\n",
    "    \"Método\": [\"Batch GD\", \"SGD\", \"Mini-Batch GD\"],\n",
    "    \"Tiempo (s)\": [time_batch, time_sgd, time_minibatch],\n",
    "    \"Error MSE\": [final_mse_batch, final_mse_sgd, final_mse_minibatch]\n",
    "})\n",
    "\n",
    "\n",
    "# Mostrar la tabla en Jupyter Notebook\n",
    "from IPython.display import display\n",
    "display(results_df)\n",
    "\n"
   ]
  },
  {
   "cell_type": "markdown",
   "metadata": {},
   "source": [
    "### Comparacion de los 3\n",
    "\n",
    "En términos de precisión, el **Descenso de Gradiente por Mini-Batches** fue el mejor de los tres métodos. Su error fue mucho menor que el del Batch GD y, definitivamente, muchísimo mejor que el del SGD, que no logró converger correctamente. Esto puede ser porque Mini-Batch GD hace un buen balance entre usar suficiente información del dataset para cada actualización y mantener cierta estabilidad en los pesos mientras aprende.\n",
    "\n",
    "En cuanto al tiempo, el **SGD** fue el más rápido, pero a costa de una precisión muy baja. El Batch GD fue un poco más lento que el SGD, pero su error seguía siendo considerablemente mayor que el del Mini-Batch GD. Aunque Mini-Batch GD tomó un poquito más de tiempo que los otros dos, la diferencia no fue muy grande y valió la pena por el gran salto en precisión que logró."
   ]
  }
 ],
 "metadata": {
  "kernelspec": {
   "display_name": "LB3venv",
   "language": "python",
   "name": "python3"
  },
  "language_info": {
   "codemirror_mode": {
    "name": "ipython",
    "version": 3
   },
   "file_extension": ".py",
   "mimetype": "text/x-python",
   "name": "python",
   "nbconvert_exporter": "python",
   "pygments_lexer": "ipython3",
   "version": "3.11.9"
  }
 },
 "nbformat": 4,
 "nbformat_minor": 2
}
